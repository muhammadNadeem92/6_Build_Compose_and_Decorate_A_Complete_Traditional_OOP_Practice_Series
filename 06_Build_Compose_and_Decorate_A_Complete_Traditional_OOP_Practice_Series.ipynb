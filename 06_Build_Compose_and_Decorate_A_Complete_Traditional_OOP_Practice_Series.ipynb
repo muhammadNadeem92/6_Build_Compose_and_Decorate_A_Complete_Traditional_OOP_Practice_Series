{
  "nbformat": 4,
  "nbformat_minor": 0,
  "metadata": {
    "colab": {
      "provenance": [],
      "authorship_tag": "ABX9TyPHATORbwFUylB2SMUwAwpO",
      "include_colab_link": true
    },
    "kernelspec": {
      "name": "python3",
      "display_name": "Python 3"
    },
    "language_info": {
      "name": "python"
    }
  },
  "cells": [
    {
      "cell_type": "markdown",
      "metadata": {
        "id": "view-in-github",
        "colab_type": "text"
      },
      "source": [
        "<a href=\"https://colab.research.google.com/github/muhammadNadeem92/6_Build_Compose_and_Decorate_A_Complete_Traditional_OOP_Practice_Series/blob/main/06_Build_Compose_and_Decorate_A_Complete_Traditional_OOP_Practice_Series.ipynb\" target=\"_parent\"><img src=\"https://colab.research.google.com/assets/colab-badge.svg\" alt=\"Open In Colab\"/></a>"
      ]
    },
    {
      "cell_type": "markdown",
      "source": [
        "**1. Using self**\n",
        "\n",
        "Assignment:\n",
        "Create a class Student with attributes name and marks. Use the self keyword to initialize these values via a constructor. Add a method display() that prints student details."
      ],
      "metadata": {
        "id": "aMsvCtQrWVy6"
      }
    },
    {
      "cell_type": "code",
      "source": [
        "\n",
        "class Student:\n",
        "  def __init__(self, name,marks):\n",
        "    self.name = name\n",
        "    self.marks = marks\n",
        "\n",
        "  def display(self):\n",
        "    print(\"Name:\", self.name)\n",
        "    print(\"Marks:\",self.marks)\n",
        "\n",
        "student1 = Student(\"Haris\",97)\n",
        "student1.display()"
      ],
      "metadata": {
        "id": "PCW7NbdotcOU",
        "outputId": "54b77474-05b8-4fce-83ea-d6c3a30e8fb2",
        "colab": {
          "base_uri": "https://localhost:8080/"
        }
      },
      "execution_count": 1,
      "outputs": [
        {
          "output_type": "stream",
          "name": "stdout",
          "text": [
            "Name: Haris\n",
            "Marks: 97\n"
          ]
        }
      ]
    },
    {
      "cell_type": "markdown",
      "source": [
        "**2. Using cls**\n",
        "\n",
        "Assignment:\n",
        "Create a class Counter that keeps track of how many objects have been created. Use a class variable and a class method with cls to manage and display the count."
      ],
      "metadata": {
        "id": "yvTqPhTKW1Hm"
      }
    },
    {
      "cell_type": "code",
      "source": [
        "\n",
        "class Counter:\n",
        "  count = 0    # class variable\n",
        "\n",
        "  def __init__(self):\n",
        "    Counter.count += 1    # increment when an object is created\n",
        "\n",
        "  @classmethod\n",
        "  def show_count(cls):       # class method\n",
        "    print(f\"Total objects created: {cls.count}\")\n",
        "\n",
        "# creating objects\n",
        "count2 = Counter()\n",
        "count3 = Counter()\n",
        "count1 = Counter()\n",
        "\n",
        "Counter.show_count()  # call the class method\n",
        "\n",
        "\n",
        "\n"
      ],
      "metadata": {
        "id": "aaicDYSXs1GS",
        "colab": {
          "base_uri": "https://localhost:8080/"
        },
        "outputId": "d1d49018-bc36-4d1e-d958-732c75560964"
      },
      "execution_count": 2,
      "outputs": [
        {
          "output_type": "stream",
          "name": "stdout",
          "text": [
            "Total objects created: 3\n"
          ]
        }
      ]
    },
    {
      "cell_type": "markdown",
      "source": [
        "**3. Public Variables and Methods**\n",
        "\n",
        "**Assignment:**\n",
        "Create a class Car with a public variable brand and a public method start(). Instantiate the class and access both from outside the class."
      ],
      "metadata": {
        "id": "4eHHm43KW-xR"
      }
    },
    {
      "cell_type": "code",
      "source": [
        "\n",
        "class Car:\n",
        "  def __init__(self, brand):\n",
        "    self.brand = brand    # public variable\n",
        "\n",
        "  def start(self):        # public method\n",
        "    return f\"{self.brand} has started\"\n",
        "\n",
        "car1 = Car(\"Toyota\")\n",
        "print(car1.brand)\n",
        "print(car1.start())"
      ],
      "metadata": {
        "colab": {
          "base_uri": "https://localhost:8080/"
        },
        "id": "CG4w7mymtNjt",
        "outputId": "09c4d727-28f7-4a9c-aca9-df37e4010989"
      },
      "execution_count": 3,
      "outputs": [
        {
          "output_type": "stream",
          "name": "stdout",
          "text": [
            "Toyota\n",
            "Toyota has started\n"
          ]
        }
      ]
    },
    {
      "cell_type": "markdown",
      "source": [
        "**4. Class Variables and Class Methods**\n",
        "\n",
        "**Assignment:**\n",
        "Create a class Bank with a class variable bank_name. Add a class method change_bank_name(cls, name) that allows changing the bank name. Show that it affects all instances."
      ],
      "metadata": {
        "id": "ruS16eR5XMCP"
      }
    },
    {
      "cell_type": "code",
      "source": [
        "\n",
        "class Bank:\n",
        "  bank_name = \"ABC Bank\"   # class variable\n",
        "\n",
        "  @classmethod\n",
        "  def change_bank_name(cls, name):\n",
        "    cls.bank_name = name\n",
        "    print(f\"Bank name changed to {cls.bank_name}\")\n",
        "\n",
        "Bank.change_bank_name(\"National Bank\")\n",
        "\n",
        "\n"
      ],
      "metadata": {
        "id": "m_HhBS2vwylL",
        "colab": {
          "base_uri": "https://localhost:8080/"
        },
        "outputId": "40edfa27-e0bc-4ccf-e915-e78c31ee5a63"
      },
      "execution_count": 4,
      "outputs": [
        {
          "output_type": "stream",
          "name": "stdout",
          "text": [
            "Bank name changed to National Bank\n"
          ]
        }
      ]
    },
    {
      "cell_type": "markdown",
      "source": [
        "**5. Static Variables and Static Methods**\n",
        "\n",
        "**Assignment:**\n",
        "Create a class MathUtils with a static method add(a, b) that returns the sum. No class or instance variables should be used.\n",
        "\n"
      ],
      "metadata": {
        "id": "DoHzNsClXVCT"
      }
    },
    {
      "cell_type": "code",
      "source": [
        "\n",
        "class MathUtils:\n",
        "  @staticmethod\n",
        "  def add(a,b):\n",
        "    return a + b\n",
        "\n",
        "MathUtils.add(2,3)\n"
      ],
      "metadata": {
        "id": "bhLWv_z_w-DL",
        "colab": {
          "base_uri": "https://localhost:8080/"
        },
        "outputId": "9583cb5c-2149-402e-e48c-bf29d5049a6a"
      },
      "execution_count": 5,
      "outputs": [
        {
          "output_type": "execute_result",
          "data": {
            "text/plain": [
              "5"
            ]
          },
          "metadata": {},
          "execution_count": 5
        }
      ]
    },
    {
      "cell_type": "markdown",
      "source": [
        "**6. Constructors and Destructors**\n",
        "\n",
        "**Assignment:**\n",
        "Create a class Logger that prints a message when an object is created (constructor) and another message when it is destroyed (destructor)."
      ],
      "metadata": {
        "id": "UWgyHozjXoWk"
      }
    },
    {
      "cell_type": "code",
      "source": [
        "\n",
        "class Logger:\n",
        "  def __init__(self, message):\n",
        "    self.message = message\n",
        "    print(f\"Object created with message: {self.message}\")\n",
        "\n",
        "  def __del__(self):\n",
        "    print(f\"Object is destroyed with message: {self.message}\")\n",
        "\n",
        "obj_created = Logger(\"Object is created\")\n",
        "del obj_created\n"
      ],
      "metadata": {
        "colab": {
          "base_uri": "https://localhost:8080/"
        },
        "id": "LmC2JJXXxKuO",
        "outputId": "ded31748-e77d-4df9-c32c-5158ac7ed5e8"
      },
      "execution_count": 6,
      "outputs": [
        {
          "output_type": "stream",
          "name": "stdout",
          "text": [
            "Object created with message: Object is created\n",
            "Object is destroyed with message: Object is created\n"
          ]
        }
      ]
    },
    {
      "cell_type": "markdown",
      "source": [
        "**7. Access Modifiers: Public, Private, and Protected**\n",
        "\n",
        "**Assignment:**\n",
        "\n",
        "\n",
        "Create a class Employee with:\n",
        "*   a public variable name,\n",
        "*   a protected variable _salary, and\n",
        "*   a private variable __ssn.\n",
        "\n",
        "Try accessing all three variables from an object of the class and document what happens.\n",
        "\n"
      ],
      "metadata": {
        "id": "gb7kdbTLXwdT"
      }
    },
    {
      "cell_type": "code",
      "source": [
        "\n",
        "class Employee:\n",
        "  def __init__(self, name, salary, ssn):\n",
        "    self.name = name           # public variable\n",
        "    self._salary = salary      # protected variable\n",
        "    self.__ssn = ssn           # private variable\n",
        "\n",
        "  def employee_info(self):\n",
        "    print(f\"Name : {self.name}\")\n",
        "    print(f\"Salary : { self._salary}\")\n",
        "    print(f\"SSN : {self.__ssn}\")   # accessed inside the class\n",
        "\n",
        "# create an object\n",
        "employee1 = Employee(\"Haris\", 50000, \"123456789\")\n",
        "\n",
        "# call method to display info\n",
        "employee1.employee_info()\n",
        "\n",
        "print(\"\\n------- accessing variables outside the class --------\\n\")\n",
        "\n",
        "# Public variable: accessible directly\n",
        "print(\"Public (name): \", employee1.name)   # ok\n",
        "\n",
        "# Protected variable: accessible, but by convention should not be accessible directly\n",
        "print(\"Protected (_salary): \", employee1._salary)  # not recommended\n",
        "\n",
        "# Private variable: will raise attribute error if access directly\n",
        "# print(employee1.__ssn)   #uncomment this line to see an error\n",
        "\n",
        "# accessing private variable using name mangling (Not recommend)\n",
        "print(\"Private (__ssn) via name mangling: \",employee1._Employee__ssn)\n",
        "\n",
        "\n"
      ],
      "metadata": {
        "colab": {
          "base_uri": "https://localhost:8080/"
        },
        "id": "zqFL9GKM0hMv",
        "outputId": "86df9979-4fb4-47ed-a31c-15813bb33874"
      },
      "execution_count": 7,
      "outputs": [
        {
          "output_type": "stream",
          "name": "stdout",
          "text": [
            "Name : Haris\n",
            "Salary : 50000\n",
            "SSN : 123456789\n",
            "\n",
            "------- accessing variables outside the class --------\n",
            "\n",
            "Public (name):  Haris\n",
            "Protected (_salary):  50000\n",
            "Private (__ssn) via name mangling:  123456789\n"
          ]
        }
      ]
    },
    {
      "cell_type": "markdown",
      "source": [
        "**8. The super() Function**\n",
        "\n",
        "**Assignment:**\n",
        "Create a class Person with a constructor that sets the name. Inherit a class Teacher from it, add a subject field, and use super() to call the base class constructor."
      ],
      "metadata": {
        "id": "xB3I2mXcYoYo"
      }
    },
    {
      "cell_type": "code",
      "source": [
        "\n",
        "class Person:\n",
        "  def __init__(self, name):\n",
        "    self.name = name\n",
        "\n",
        "class Teacher(Person):\n",
        "  def __init__(self,name, subject):\n",
        "    super().__init__(name)     # call the base class constructor\n",
        "    self.subject = subject\n",
        "\n",
        "\n",
        "    print(f\"Teacher name: {self.name}\")\n",
        "    print(f\"Subject: {self.subject}\")\n",
        "\n",
        "# create an object of Teacher\n",
        "teacher1 = Teacher(\"Haris\",\"Maths\")\n"
      ],
      "metadata": {
        "id": "-O5mAkHuBia9",
        "colab": {
          "base_uri": "https://localhost:8080/"
        },
        "outputId": "7b7c61e4-37f6-4c42-9f1c-3584e4334f54"
      },
      "execution_count": 8,
      "outputs": [
        {
          "output_type": "stream",
          "name": "stdout",
          "text": [
            "Teacher name: Haris\n",
            "Subject: Maths\n"
          ]
        }
      ]
    },
    {
      "cell_type": "markdown",
      "source": [
        "**9. Abstract Classes and Methods**\n",
        "\n",
        "**Assignment:**\n",
        "Use the abc module to create an abstract class Shape with an abstract method area(). Inherit a class Rectangle that implements area().\n",
        "\n"
      ],
      "metadata": {
        "id": "2My8ZzlHYmsk"
      }
    },
    {
      "cell_type": "code",
      "source": [
        "from abc import ABC , abstractmethod\n",
        "\n",
        "class Shape(ABC):\n",
        "  @abstractmethod\n",
        "\n",
        "  def calculate_area(self):\n",
        "    pass\n",
        "\n",
        "# rectangle inherit from shape and implement calculate_area\n",
        "class Rectangle(Shape):\n",
        "  def __init__(self, length, breadth):\n",
        "    self.length = length\n",
        "    self.breadth = breadth\n",
        "\n",
        "  def calculate_area(self):    # implementing abstract method\n",
        "    return self.length * self.breadth\n",
        "\n",
        "rectangle1 = Rectangle(5,4)\n",
        "print(\"Area of rectangle: \", rectangle1.calculate_area())\n"
      ],
      "metadata": {
        "colab": {
          "base_uri": "https://localhost:8080/"
        },
        "id": "HcoFcfLGBkN2",
        "outputId": "5d653e92-432f-4cd6-a00c-1e17045fdcf5"
      },
      "execution_count": 9,
      "outputs": [
        {
          "output_type": "stream",
          "name": "stdout",
          "text": [
            "Area of rectangle:  20\n"
          ]
        }
      ]
    },
    {
      "cell_type": "markdown",
      "source": [
        "**10. Instance Methods**\n",
        "\n",
        "**Assignment:**\n",
        "Create a class Dog with instance variables name and breed. Add an instance method bark() that prints a message including the dog's name.\n",
        "\n"
      ],
      "metadata": {
        "id": "dJbkweOZZCEw"
      }
    },
    {
      "cell_type": "code",
      "source": [
        "\n",
        "class Dog:\n",
        "  def __init__(self, name, breed):\n",
        "    self.name = name\n",
        "    self.breed = breed\n",
        "\n",
        "  def bark(self):\n",
        "    print(f\"{self.name} says woof!\")\n",
        "\n",
        "dog1 = Dog(\"Tommy\",\"labrador\")\n",
        "dog1.bark()\n"
      ],
      "metadata": {
        "colab": {
          "base_uri": "https://localhost:8080/"
        },
        "id": "ltgkYP2RNRHP",
        "outputId": "700b97a2-f4b2-47ef-d2b7-e51d1fef2fe8"
      },
      "execution_count": 10,
      "outputs": [
        {
          "output_type": "stream",
          "name": "stdout",
          "text": [
            "Tommy says woof!\n"
          ]
        }
      ]
    },
    {
      "cell_type": "markdown",
      "source": [
        "**11. Class Methods**\n",
        "\n",
        "**Assignment:**\n",
        "Create a class Book with a class variable total_books. Add a class method increment_book_count() to increase the count when a new book is added."
      ],
      "metadata": {
        "id": "zjID8WbmZPIx"
      }
    },
    {
      "cell_type": "code",
      "source": [
        "class Book:\n",
        "  total_books = 0    # class variable\n",
        "\n",
        "  @classmethod\n",
        "  def increment_book_count(cls):\n",
        "    cls.total_books += 1\n",
        "    print(f\"Total books: {cls.total_books}\")\n",
        "\n",
        "Book.increment_book_count()\n",
        "Book.increment_book_count()\n",
        "Book.increment_book_count()\n",
        "\n"
      ],
      "metadata": {
        "colab": {
          "base_uri": "https://localhost:8080/"
        },
        "id": "Gn1Iesj3R0ja",
        "outputId": "24577872-3891-44ab-cd44-0313e9ba68b1"
      },
      "execution_count": 11,
      "outputs": [
        {
          "output_type": "stream",
          "name": "stdout",
          "text": [
            "Total books: 1\n",
            "Total books: 2\n",
            "Total books: 3\n"
          ]
        }
      ]
    },
    {
      "cell_type": "markdown",
      "source": [
        "**12. Static Methods**\n",
        "\n",
        "**Assignment:**\n",
        "Create a class TemperatureConverter with a static method celsius_to_fahrenheit(c) that returns the Fahrenheit value."
      ],
      "metadata": {
        "id": "_QPnKosHZaZP"
      }
    },
    {
      "cell_type": "code",
      "source": [
        "\n",
        "class TemperatureConverter:\n",
        "  @staticmethod\n",
        "  def celsius_to_fahrenheit(c):  # static method\n",
        "    return (c * 9/5) + 32    # formul to convert celsius to fahrenheit\n",
        "\n",
        "fahrenheit= TemperatureConverter.celsius_to_fahrenheit(37)\n",
        "\n",
        "print(f\"Temperature in Fahrenheit: {fahrenheit}\")\n",
        "\n",
        "\n"
      ],
      "metadata": {
        "id": "ChufJW8rR6X8",
        "colab": {
          "base_uri": "https://localhost:8080/"
        },
        "outputId": "aafe20e3-5407-4d5e-a378-8e0bce426733"
      },
      "execution_count": 12,
      "outputs": [
        {
          "output_type": "stream",
          "name": "stdout",
          "text": [
            "Temperature in Fahrenheit: 98.6\n"
          ]
        }
      ]
    },
    {
      "cell_type": "markdown",
      "source": [
        "**13. Composition**\n",
        "\n",
        "**Assignment:**\n",
        "Create a class Engine and a class Car. Use composition by passing an Engine object to the Car class during initialization. Access a method of the Engine class via the Car class."
      ],
      "metadata": {
        "id": "URlc-AUfZg0i"
      }
    },
    {
      "cell_type": "code",
      "source": [
        "\n",
        "class Engine:\n",
        "  def start(self):\n",
        "    print(\"Engine started\")\n",
        "\n",
        "\n",
        "class Car:\n",
        "  def __init__(self, engine):\n",
        "    self.engine = engine   # composition: car has an Engine\n",
        "\n",
        "  def start_car(self):\n",
        "    self.engine.start()\n",
        "\n",
        "# creating an Engine object\n",
        "engine1 = Engine()\n",
        "\n",
        "# passing Engine object to car (composition)\n",
        "car1 = Car(engine1)\n",
        "car1.start_car()"
      ],
      "metadata": {
        "id": "9xt-GSh6R9Xc",
        "colab": {
          "base_uri": "https://localhost:8080/"
        },
        "outputId": "bd510836-d5f3-42d1-f979-16a8d008558c"
      },
      "execution_count": 13,
      "outputs": [
        {
          "output_type": "stream",
          "name": "stdout",
          "text": [
            "Engine started\n"
          ]
        }
      ]
    },
    {
      "cell_type": "markdown",
      "source": [
        "**14. Aggregation**\n",
        "\n",
        "**Assignment:**\n",
        "Create a class Department and a class Employee. Use aggregation by having a Department object store a reference to an Employee object that exists independently of it.\n",
        "\n"
      ],
      "metadata": {
        "id": "bORq7ltKZtgk"
      }
    },
    {
      "cell_type": "code",
      "source": [
        "\n",
        "class Employee:\n",
        "  def __init__(self, name):\n",
        "    self.name = name\n",
        "\n",
        "\n",
        "class Department:\n",
        "  def __init__(self, name, employee):\n",
        "    self.name = name\n",
        "    self.employee = employee   # aggregation: department has an employee\n",
        "\n",
        "  def show_department_info(self):\n",
        "    print(f\"Department: {self.name}\")\n",
        "    print(f\"Employee: {self.employee.name}\")\n",
        "\n",
        "# Create an Employee object independently\n",
        "employee1 = Employee(\"Haris\")\n",
        "\n",
        "# create the department and pass the object (aggregation)\n",
        "department1 = Department(\"Hr\", employee1)\n",
        "department1.show_department_info()\n",
        "\n"
      ],
      "metadata": {
        "id": "xtwuLyVkSDRx",
        "colab": {
          "base_uri": "https://localhost:8080/"
        },
        "outputId": "f56cb89e-6fc4-448a-f578-d17f7a18c161"
      },
      "execution_count": 14,
      "outputs": [
        {
          "output_type": "stream",
          "name": "stdout",
          "text": [
            "Department: Hr\n",
            "Employee: Haris\n"
          ]
        }
      ]
    },
    {
      "cell_type": "markdown",
      "source": [
        "**15. Method Resolution Order (MRO) and Diamond Inheritance**\n",
        "\n",
        "**Assignment:**\n",
        "Create four classes:\n",
        "\n",
        "\n",
        "*   A with a method show(),\n",
        "\n",
        "*   B and C that inherit from A and override show(),\n",
        "*   D that inherits from both B and C.\n",
        "\n",
        "Create an object of D and call show() to observe MRO."
      ],
      "metadata": {
        "id": "G-OUZXOmZ3e_"
      }
    },
    {
      "cell_type": "code",
      "source": [
        "\n",
        "class A:\n",
        "  def show(self):\n",
        "    return \"from class A\"\n",
        "\n",
        "class B(A):\n",
        "  def show(self):\n",
        "    return \"from class B\"\n",
        "\n",
        "class C(A):\n",
        "  def show(self):\n",
        "    return \"from class C\"\n",
        "\n",
        "class D(B,C):\n",
        "  pass\n",
        "\n",
        "d1 = D()\n",
        "print(d1.show())\n",
        "print(D.mro())"
      ],
      "metadata": {
        "id": "dGEFDtAOSJMe",
        "colab": {
          "base_uri": "https://localhost:8080/"
        },
        "outputId": "79aee527-b6fa-4a9f-a62d-090b4ef865f5"
      },
      "execution_count": 15,
      "outputs": [
        {
          "output_type": "stream",
          "name": "stdout",
          "text": [
            "from class B\n",
            "[<class '__main__.D'>, <class '__main__.B'>, <class '__main__.C'>, <class '__main__.A'>, <class 'object'>]\n"
          ]
        }
      ]
    },
    {
      "cell_type": "markdown",
      "source": [
        "**16. Function Decorators**\n",
        "\n",
        "**Assignment:**\n",
        "Write a decorator function log_function_call that prints \"Function is being called\" before a function executes. Apply it to a function say_hello()."
      ],
      "metadata": {
        "id": "j-EsoTn2aT1R"
      }
    },
    {
      "cell_type": "code",
      "source": [
        " # create the decorator\n",
        "def log_function_call(func):\n",
        "  def wrapper():\n",
        "    print(\"Function is being called\")   # extra behavior\n",
        "    func()        # call the orignal function\n",
        "  return wrapper    # return the enner function\n",
        "\n",
        "# use the decorator\n",
        "@log_function_call\n",
        "def say_hello():\n",
        "  print(\"Hello, Class\")\n",
        "\n",
        "say_hello()\n"
      ],
      "metadata": {
        "id": "uio0mhSOSRHN",
        "colab": {
          "base_uri": "https://localhost:8080/"
        },
        "outputId": "aaa98611-1625-4ff0-da7b-aa3d5518411b"
      },
      "execution_count": 16,
      "outputs": [
        {
          "output_type": "stream",
          "name": "stdout",
          "text": [
            "Function is being called\n",
            "Hello, Class\n"
          ]
        }
      ]
    },
    {
      "cell_type": "markdown",
      "source": [
        "**17. Class Decorators**\n",
        "\n",
        "**Assignment:**\n",
        "Create a class decorator add_greeting that modifies a class to add a greet() method returning \"Hello from Decorator!\". Apply it to a class Person."
      ],
      "metadata": {
        "id": "bHT0NpdXaeBA"
      }
    },
    {
      "cell_type": "code",
      "source": [
        "\n",
        "# create a class decorator\n",
        "def add_greeting(cls):\n",
        "\n",
        "  # add a greet method to the class\n",
        "  def greet(self):\n",
        "    return \"Hello from Decorator!\"\n",
        "\n",
        "  cls.greet = greet   # attach greet to the class\n",
        "\n",
        "  return cls\n",
        "\n",
        "# apply the decorator\n",
        "@add_greeting\n",
        "class Person:\n",
        "  def __init__(self, name):\n",
        "    self.name = name\n",
        "\n",
        "# create an object\n",
        "person1 = Person(\"Haris\")\n",
        "\n",
        "# call the greet function\n",
        "print(person1.greet())\n"
      ],
      "metadata": {
        "id": "CU1GGw-NSX1T",
        "colab": {
          "base_uri": "https://localhost:8080/"
        },
        "outputId": "62e9939a-d31f-4b29-91e2-c79a8e388532"
      },
      "execution_count": 17,
      "outputs": [
        {
          "output_type": "stream",
          "name": "stdout",
          "text": [
            "Hello from Decorator!\n"
          ]
        }
      ]
    },
    {
      "cell_type": "markdown",
      "source": [
        "**18. Property Decorators: @property, @setter, and @deleter**\n",
        "\n",
        "**Assignment:**\n",
        "Create a class Product with a private attribute _price. Use @property to get the price, @price.setter to update it, and @price.deleter to delete it."
      ],
      "metadata": {
        "id": "Le57oAEgaqXu"
      }
    },
    {
      "cell_type": "code",
      "source": [
        "class Product:\n",
        "  def __init__(self, price):\n",
        "    self.__price = price\n",
        "\n",
        "  @property\n",
        "  def price(self):\n",
        "    return self.__price\n",
        "\n",
        "  @price.setter\n",
        "  def price(self, new_price):\n",
        "    if new_price < 0:\n",
        "      print(\"Price cannot be negative\")\n",
        "    else:\n",
        "      self.__price = new_price\n",
        "\n",
        "  @price.deleter\n",
        "  def price(self):\n",
        "    print(\"Price deleted\")\n",
        "    del self.__price\n",
        "\n",
        "product1 = Product(0)\n",
        "print(product1.price)\n",
        "\n",
        "product1.price = -32\n",
        "print(product1.price)\n",
        "\n",
        "del product1.price\n"
      ],
      "metadata": {
        "id": "-QJgxWBzSene",
        "colab": {
          "base_uri": "https://localhost:8080/"
        },
        "outputId": "b25b6084-282e-49b1-a63b-9a639d9bde2d"
      },
      "execution_count": 18,
      "outputs": [
        {
          "output_type": "stream",
          "name": "stdout",
          "text": [
            "0\n",
            "Price cannot be negative\n",
            "0\n",
            "Price deleted\n"
          ]
        }
      ]
    },
    {
      "cell_type": "markdown",
      "source": [
        "**19. callable() and __call__()**\n",
        "\n",
        "**Assignment:**\n",
        "Create a class Multiplier with an __init__() to set a factor. Define a __call__() method that multiplies an input by the factor. Test it with callable() and by calling the object like a function.\n",
        "\n"
      ],
      "metadata": {
        "id": "b7Z7fDOObShs"
      }
    },
    {
      "cell_type": "code",
      "source": [
        "\n",
        "class Multiplier:\n",
        "  def __init__(self, factor):\n",
        "    self.factor = factor\n",
        "\n",
        "  def __call__(self):\n",
        "    return self.factor * 2\n",
        "\n",
        "\n",
        "multiply1 = Multiplier(4)\n",
        "multiply1()\n",
        "\n",
        "# print(callable(multiply1))  # to check it is callable or not , output is True\n",
        "\n"
      ],
      "metadata": {
        "id": "7bWR1I4KShFX",
        "colab": {
          "base_uri": "https://localhost:8080/"
        },
        "outputId": "e44527e7-f35d-4a9b-82ec-7d7b8b382968"
      },
      "execution_count": 19,
      "outputs": [
        {
          "output_type": "execute_result",
          "data": {
            "text/plain": [
              "8"
            ]
          },
          "metadata": {},
          "execution_count": 19
        }
      ]
    },
    {
      "cell_type": "markdown",
      "source": [
        "**20. Creating a Custom Exception**\n",
        "\n",
        "**Assignment:**\n",
        "Create a custom exception InvalidAgeError. Write a function check_age(age) that raises this exception if age < 18. Handle it with try...except."
      ],
      "metadata": {
        "id": "x5OeAiF6bbdq"
      }
    },
    {
      "cell_type": "code",
      "source": [
        "\n",
        "class InvalidAgeError(Exception):\n",
        "  pass\n",
        "\n",
        "def check_age(age):\n",
        "  if age < 18:\n",
        "    raise InvalidAgeError(\"Age can not be less than 18\")\n",
        "try:\n",
        "  check_age(67)\n",
        "  print(\"Age is valid\")\n",
        "except InvalidAgeError as e:\n",
        "  print(e)\n",
        "\n"
      ],
      "metadata": {
        "id": "L4b0tsghSqiF",
        "colab": {
          "base_uri": "https://localhost:8080/"
        },
        "outputId": "d8755c04-3059-45aa-8c83-f795b5cb0a20"
      },
      "execution_count": 20,
      "outputs": [
        {
          "output_type": "stream",
          "name": "stdout",
          "text": [
            "Age is valid\n"
          ]
        }
      ]
    },
    {
      "cell_type": "markdown",
      "source": [
        "**21. Make a Custom Class Iterable**\n",
        "\n",
        "**Assignment:**\n",
        "Create a class Countdown that takes a start number. Implement __iter__() and __next__() to make the object iterable in a for-loop, counting down to 0."
      ],
      "metadata": {
        "id": "6HGvilgHbsLH"
      }
    },
    {
      "cell_type": "code",
      "source": [
        "\n",
        "class Countdown:\n",
        "  def __init__(self, start):\n",
        "    self.current = start           # countdown start value\n",
        "\n",
        "  def __iter__(self):\n",
        "    return self\n",
        "\n",
        "  def __next__(self):\n",
        "    if self.current < 0:\n",
        "      raise StopIteration\n",
        "    else:\n",
        "      value = self.current\n",
        "      self.current -= 1\n",
        "      return value\n",
        "\n",
        "for i in Countdown(10):\n",
        "  print(i)\n",
        "\n",
        "\n"
      ],
      "metadata": {
        "id": "Mde9HyqdSvbC",
        "colab": {
          "base_uri": "https://localhost:8080/"
        },
        "outputId": "0eb54a1a-a704-4307-9f15-57fd69f686aa"
      },
      "execution_count": 21,
      "outputs": [
        {
          "output_type": "stream",
          "name": "stdout",
          "text": [
            "10\n",
            "9\n",
            "8\n",
            "7\n",
            "6\n",
            "5\n",
            "4\n",
            "3\n",
            "2\n",
            "1\n",
            "0\n"
          ]
        }
      ]
    }
  ]
}